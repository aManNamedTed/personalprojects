{
 "cells": [
  {
   "cell_type": "markdown",
   "metadata": {},
   "source": [
    "## How many total possible permutations of League of Legends matches are there?\n",
    "###### by David Amante, 5.24.18"
   ]
  },
  {
   "cell_type": "markdown",
   "metadata": {},
   "source": [
    "Hi there. With the upcoming champion, Pyke, I wanted to explore the idea of how many possible League of Legends\n",
    "matches is possible. I read a short post about total permutations/combinations here:\n",
    "\n",
    "https://boards.na.leagueoflegends.com/en/c/miscellaneous/4sr1iVuw-how-many-possible-team-combinations-are-there\n",
    "\n",
    "My initial reaction to this was to just compute the amount and be done with it. However, I believe there is more\n",
    "value that could be attained here. If the dataset of League of Legends \n",
    "\n",
    "My hope is that over time, this dataset will expand to include certain properties, where more analysis can occur. \n",
    "So please, feel free to join in if you are so inclined!\n",
    "\n",
    "<strike>Problem 1: How many total <b>permutations</b> of League of Legends matches are there?</strike>\n",
    "completed: (5.24.18) <br/>\n",
    "\n",
    "<strike>Problem 2: How many total <b>combinations</b> of League of Legends matches are there?</strike>\n",
    "completed: (5.24.18) <br/>"
   ]
  },
  {
   "cell_type": "code",
   "execution_count": 70,
   "metadata": {},
   "outputs": [],
   "source": [
    "import numpy as np\n",
    "import pandas as pd"
   ]
  },
  {
   "cell_type": "code",
   "execution_count": 71,
   "metadata": {},
   "outputs": [],
   "source": [
    "df_champs = pd.read_csv(\"champions.csv\")"
   ]
  },
  {
   "cell_type": "code",
   "execution_count": 72,
   "metadata": {},
   "outputs": [],
   "source": [
    "# Permutations(n, k) = [n! / (n - k)!]\n",
    "\n",
    "# +1 to account for 0 index\n",
    "total_champs, permutations = (df_champs['champion'].size + 1), 1\n",
    "\n",
    "for i in range(10):\n",
    "    permutations *= total_champs\n",
    "    total_champs -= 1"
   ]
  },
  {
   "cell_type": "code",
   "execution_count": 81,
   "metadata": {},
   "outputs": [],
   "source": [
    "# Combinations(n, k) = {n! / [(n - k)!]k!}\n",
    "\n",
    "# take the calculated permutations from last block and divide by k! for total combinations\n",
    "total_champs, numerator, denominator = (df_champs['champion'].size + 1), permutations, 1\n",
    "\n",
    "for i in range(1, 11):\n",
    "    # don't need to multiply in descending order 10 * 9 * 8 * ... because multiplication is commutative \n",
    "    denominator *= i \n",
    "\n",
    "combinations = (numerator / denominator)"
   ]
  },
  {
   "cell_type": "code",
   "execution_count": 84,
   "metadata": {},
   "outputs": [
    {
     "name": "stdout",
     "output_type": "stream",
     "text": [
      "2,081,693,722,421,538,086,400 permutations\n",
      "          573,658,984,353,378 combinations\n"
     ]
    }
   ],
   "source": [
    "print(\"{:,} permutations\\n          {:,} combinations\".format(permutations, int(combinations)))"
   ]
  },
  {
   "cell_type": "code",
   "execution_count": null,
   "metadata": {},
   "outputs": [],
   "source": []
  }
 ],
 "metadata": {
  "kernelspec": {
   "display_name": "Python 3",
   "language": "python",
   "name": "python3"
  },
  "language_info": {
   "codemirror_mode": {
    "name": "ipython",
    "version": 3
   },
   "file_extension": ".py",
   "mimetype": "text/x-python",
   "name": "python",
   "nbconvert_exporter": "python",
   "pygments_lexer": "ipython3",
   "version": "3.6.4"
  }
 },
 "nbformat": 4,
 "nbformat_minor": 2
}
