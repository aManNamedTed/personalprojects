{
 "cells": [
  {
   "cell_type": "markdown",
   "metadata": {},
   "source": [
    "<h1><center><underline>How much analysis can I do on League Of Legends?</underline></center></h1>\n",
    "<center>by David Amante, 5.24.18"
   ]
  },
  {
   "cell_type": "markdown",
   "metadata": {},
   "source": [
    "Hi there. With the upcoming champion, Pyke, I wanted to explore the idea of how many possible League of Legends\n",
    "matches is possible. I read a short post about total permutations/combinations here:\n",
    "\n",
    "https://boards.na.leagueoflegends.com/en/c/miscellaneous/4sr1iVuw-how-many-possible-team-combinations-are-there\n",
    "\n",
    "My initial reaction to this was to just compute the amount and be done with it. However, I believe there is more\n",
    "value that could be attained here. My new goal is to just take this as far as I possibly can. I think I'll add more and more data as I think is relevant and just keep doing more and more analysis. For now, permutations and computations of possible matches is good. I'm sure I'll think of more things to do soon though.\n",
    "\n",
    "\n",
    "Overall, my hope is that over time, this dataset will expand to include certain properties, where more analysis \n",
    "can occur. So please, feel free to join in if you are so inclined!"
   ]
  },
  {
   "cell_type": "markdown",
   "metadata": {},
   "source": [
    "### Index of Questions (index only works if you run all cells in this .ipynb locally)\n",
    "<ol>\n",
    "  <li>\n",
    "    <a href=\"#question1\"> <!-- Finished 5.24.18 -->\n",
    "      How many total permutations of League of Legends matches are there?\n",
    "    </a> \n",
    "  </li>\n",
    "  <li>\n",
    "    <a href=\"#question2\"> <!-- Finished 5.24.18 -->\n",
    "      How many total combinations of League of Legends matches are there?\n",
    "    </a>\n",
    "  </li>\n",
    "  <li>\n",
    "    <a href=\"#question3\"> <!-- -->\n",
    "      How many total permutations of matches if champions are grouped by primary lane?\n",
    "    </a>\n",
    "  </li>\n",
    "  <li>\n",
    "    <a href=\"#question4\"> <!-- -->\n",
    "      How many total combinations of matches if champions are grouped by primary lane?\n",
    "    </a>\n",
    "  </li>\n",
    "</ol>"
   ]
  },
  {
   "cell_type": "markdown",
   "metadata": {},
   "source": [
    "<a id=\"question1\"></a>\n",
    "\n",
    "### Question 1: How many total permutations of League of Legends matches are there? \n",
    "* <i>\n",
    "    The difference between a permutation and a combination is that <u>in a permutation, the order matters</u>.\n",
    "    <br/> Whereas with a combination, the order does not matter.\n",
    "  </i>\n",
    "    > Example: Given {1, 2, 3}, make as many permutations of three as possible. <br/>\n",
    "    <br/> {1, 2, 3}, {1, 3, 2}, {2, 1, 3}, {2, 3, 1}, {3, 1, 2}, {3, 2, 1}\n",
    "    <br/> are all <b>6</b> distinct permutations of the integers, 1, 2, and 3. \n",
    "    <br/> This follows because if we apply the permutation formula to the set, \n",
    "    <br/><br/>$$PermutationsOf(n, k) = \\frac{n!}{(n-k)!}$$\n",
    "    <br/> We let $n = 3$ because we have <u>3 total items</u>, and let $k = 3$ \n",
    "    <br/> because we're choosing the possible permutations of a <u>group of 3</u>.\n",
    "    <br/> That yields the following equation:\n",
    "    $$PermutationsOf(3, 3) = \\frac{3!}{(3-3)!}$$\n",
    "    <br/> Which reduces to:\n",
    "    $$PermutationsOf(3, 3) = \\frac{3 * 2 * 1}{0!}$$\n",
    "    <br/> then,\n",
    "    $$PermutationsOf(3, 3) = \\frac{6}{1}$$\n",
    "    <br/> Which is the correct answer of 6 unique permutations."
   ]
  },
  {
   "cell_type": "code",
   "execution_count": 28,
   "metadata": {},
   "outputs": [],
   "source": [
    "# Begin Problem 1 (completed May 24, 2018)\n",
    "import numpy as np\n",
    "import pandas as pd"
   ]
  },
  {
   "cell_type": "code",
   "execution_count": 29,
   "metadata": {},
   "outputs": [],
   "source": [
    "df_champs = pd.read_csv(\"champions.csv\")"
   ]
  },
  {
   "cell_type": "code",
   "execution_count": 30,
   "metadata": {},
   "outputs": [
    {
     "name": "stdout",
     "output_type": "stream",
     "text": [
      "2,081,693,722,421,538,086,400 permutations\n"
     ]
    }
   ],
   "source": [
    "# Permutations(n, k) = [n! / (n - k)!]\n",
    "\n",
    "# +1 to account for 0 index\n",
    "total_champs, permutations = (df_champs['champion'].size + 1), 1\n",
    "\n",
    "for i in range(10):\n",
    "    permutations *= total_champs\n",
    "    total_champs -= 1\n",
    "\n",
    "print(\"{:,} permutations\".format(permutations))"
   ]
  },
  {
   "cell_type": "markdown",
   "metadata": {},
   "source": [
    "Given 140 champions, there are:\n",
    "\n",
    "<b>\n",
    "  two-sextillion, eighty-one quintillion, six hundred ninety-three quadrillion, seven\n",
    "  hundred twenty-two trillion, four hundred twenty-one billion, five hundred thirty-eight \n",
    "  million, eighty-six thousand, four hundred\n",
    "</b>possible match <u>permutations</u>.\n",
    "\n",
    "Okay well that's only if the order matters, which in this context, I believe is extremely \n",
    "relevant. I mean would Faker have picked Ahri if he knew Cool would pick Syndra? (I mean \n",
    "Faker is Faker, and this was a different time, so probably--but still--order matters in my \n",
    "opinion.)\n",
    "\n",
    "Reference: https://www.youtube.com/watch?v=IbPL1MyLDWg&feature=youtu.be&t=15m28s\n",
    "\n",
    "Next, let's calculate the amount of combinations of matches."
   ]
  },
  {
   "cell_type": "markdown",
   "metadata": {},
   "source": [
    "<a id=\"question2\"></a>\n",
    "\n",
    "### Question 2: How many total combinations of League of Legends matches are there?\n",
    "* <i>\n",
    "    The difference between a combination and a permutation is that \n",
    "    <u>in a combination, the order does not matter</u>.\n",
    "    <br/> Whereas with a permutation, the order does matter.\n",
    "  </i>\n",
    "    > Example: Given {1, 2, 3}, make as many combinations as possible in sets of two.<br/>\n",
    "    <br/> {1, 2}, {2, 3}, {1, 3} \n",
    "    <br/>are the <b>3</b> possible combinations of the integers 1, 2, and 3.\n",
    "    <br/> This follows because if we apply the combination formula to the set, \n",
    "    <br/><br/>$$CombinationsOf(n, k) = \\frac{n!}{(n-k)!k!}$$\n",
    "    <br/> We let $n = 3$ because we have <u>3 total items</u>, and let $k = 2$ \n",
    "    <br/> because we're choosing the possible combinations of a <u>group of 2</u>.\n",
    "    <br/>That yields the following equation:\n",
    "    $$CombinationsOf(3, 2) = \\frac{3!}{(3-2)!2!}$$\n",
    "    <br/>Which reduces to:\n",
    "    $$CombinationsOf(3, 2) = \\frac{3 * 2 * 1}{2 * 1}$$\n",
    "    <br/>then,\n",
    "    $$CombinationsOf(3, 2) = \\frac{3}{1}$$\n",
    "    <br/>Which is the correct answer of 3 unique combinations."
   ]
  },
  {
   "cell_type": "code",
   "execution_count": 1,
   "metadata": {},
   "outputs": [
    {
     "ename": "NameError",
     "evalue": "name 'df_champs' is not defined",
     "output_type": "error",
     "traceback": [
      "\u001b[0;31m---------------------------------------------------------------------------\u001b[0m",
      "\u001b[0;31mNameError\u001b[0m                                 Traceback (most recent call last)",
      "\u001b[0;32m<ipython-input-1-e3cd5f8503c0>\u001b[0m in \u001b[0;36m<module>\u001b[0;34m()\u001b[0m\n\u001b[1;32m      2\u001b[0m \u001b[0;34m\u001b[0m\u001b[0m\n\u001b[1;32m      3\u001b[0m \u001b[0;31m# take the calculated permutations from question 1 and divide by k! for total combinations\u001b[0m\u001b[0;34m\u001b[0m\u001b[0;34m\u001b[0m\u001b[0m\n\u001b[0;32m----> 4\u001b[0;31m \u001b[0mtotal_champs\u001b[0m\u001b[0;34m,\u001b[0m \u001b[0mnumerator\u001b[0m\u001b[0;34m,\u001b[0m \u001b[0mdenominator\u001b[0m \u001b[0;34m=\u001b[0m \u001b[0;34m(\u001b[0m\u001b[0mdf_champs\u001b[0m\u001b[0;34m[\u001b[0m\u001b[0;34m'champion'\u001b[0m\u001b[0;34m]\u001b[0m\u001b[0;34m.\u001b[0m\u001b[0msize\u001b[0m \u001b[0;34m+\u001b[0m \u001b[0;36m1\u001b[0m\u001b[0;34m)\u001b[0m\u001b[0;34m,\u001b[0m \u001b[0mpermutations\u001b[0m\u001b[0;34m,\u001b[0m \u001b[0;36m1\u001b[0m\u001b[0;34m\u001b[0m\u001b[0m\n\u001b[0m\u001b[1;32m      5\u001b[0m \u001b[0;34m\u001b[0m\u001b[0m\n\u001b[1;32m      6\u001b[0m \u001b[0;32mfor\u001b[0m \u001b[0mi\u001b[0m \u001b[0;32min\u001b[0m \u001b[0mrange\u001b[0m\u001b[0;34m(\u001b[0m\u001b[0;36m1\u001b[0m\u001b[0;34m,\u001b[0m \u001b[0;36m11\u001b[0m\u001b[0;34m)\u001b[0m\u001b[0;34m:\u001b[0m\u001b[0;34m\u001b[0m\u001b[0m\n",
      "\u001b[0;31mNameError\u001b[0m: name 'df_champs' is not defined"
     ]
    }
   ],
   "source": [
    "# Combinations(n, k) = {n! / [(n - k)!]k!}\n",
    "\n",
    "# take the calculated permutations from question 1 and divide by k! for total combinations\n",
    "total_champs, numerator, denominator = (df_champs['champion'].size + 1), permutations, 1\n",
    "\n",
    "for i in range(1, 11):\n",
    "    # don't need to multiply in descending order 10 * 9 * 8 * ... because multiplication is commutative \n",
    "    denominator *= i \n",
    "\n",
    "combinations = (numerator / denominator)"
   ]
  },
  {
   "cell_type": "code",
   "execution_count": 2,
   "metadata": {
    "scrolled": true
   },
   "outputs": [
    {
     "ename": "NameError",
     "evalue": "name 'combinations' is not defined",
     "output_type": "error",
     "traceback": [
      "\u001b[0;31m---------------------------------------------------------------------------\u001b[0m",
      "\u001b[0;31mNameError\u001b[0m                                 Traceback (most recent call last)",
      "\u001b[0;32m<ipython-input-2-5ff28b4267ae>\u001b[0m in \u001b[0;36m<module>\u001b[0;34m()\u001b[0m\n\u001b[0;32m----> 1\u001b[0;31m \u001b[0mprint\u001b[0m\u001b[0;34m(\u001b[0m\u001b[0;34m\"{:,} combinations\"\u001b[0m\u001b[0;34m.\u001b[0m\u001b[0mformat\u001b[0m\u001b[0;34m(\u001b[0m\u001b[0mint\u001b[0m\u001b[0;34m(\u001b[0m\u001b[0mcombinations\u001b[0m\u001b[0;34m)\u001b[0m\u001b[0;34m)\u001b[0m\u001b[0;34m)\u001b[0m\u001b[0;34m\u001b[0m\u001b[0m\n\u001b[0m",
      "\u001b[0;31mNameError\u001b[0m: name 'combinations' is not defined"
     ]
    }
   ],
   "source": [
    "print(\"{:,} combinations\".format(int(combinations)))"
   ]
  },
  {
   "cell_type": "markdown",
   "metadata": {},
   "source": [
    "Given 140 champions, there are:\n",
    "\n",
    "<b>\n",
    "  five hundred seventy-three trillion, six hundred fifty-eight billion, nine hundred \n",
    "  eighty-four million, three hundred fifty-three thousand, three hundred seventy-eight\n",
    "</b>possible match <u>combinations</u>.\n",
    "\n",
    "Next, let's calculate the amount of permutations of matches if champions were grouped by \n",
    "their usual/primary lane."
   ]
  },
  {
   "cell_type": "markdown",
   "metadata": {},
   "source": [
    "<a id=\"question3\"></a>\n",
    "### Question 3: How many total permutations of matches if champions are grouped by primary lane?"
   ]
  },
  {
   "cell_type": "markdown",
   "metadata": {},
   "source": [
    "to be completed later \n",
    "-david, 3.25.18, 6:20pm"
   ]
  },
  {
   "cell_type": "markdown",
   "metadata": {},
   "source": [
    "### Question 4: How many total combinations of matches if champions are grouped by primary lane?\n"
   ]
  },
  {
   "cell_type": "markdown",
   "metadata": {},
   "source": [
    "to be completed later \n",
    "-david, 3.25.18, 6:20pm"
   ]
  }
 ],
 "metadata": {
  "kernelspec": {
   "display_name": "Python 3",
   "language": "python",
   "name": "python3"
  },
  "language_info": {
   "codemirror_mode": {
    "name": "ipython",
    "version": 3
   },
   "file_extension": ".py",
   "mimetype": "text/x-python",
   "name": "python",
   "nbconvert_exporter": "python",
   "pygments_lexer": "ipython3",
   "version": "3.6.4"
  }
 },
 "nbformat": 4,
 "nbformat_minor": 2
}
