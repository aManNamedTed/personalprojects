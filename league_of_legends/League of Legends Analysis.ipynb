{
 "cells": [
  {
   "cell_type": "markdown",
   "metadata": {},
   "source": [
    "<h1><center><underline>How much analysis can I do on League Of Legends?</underline></center></h1>\n",
    "<center>by David Amante, 5.24.18"
   ]
  },
  {
   "cell_type": "markdown",
   "metadata": {},
   "source": [
    "Hi there. With the upcoming champion, Pyke, I wanted to explore the idea of how many possible League of Legends\n",
    "matches is possible. I read a short post about total permutations/combinations here:\n",
    "\n",
    "https://boards.na.leagueoflegends.com/en/c/miscellaneous/4sr1iVuw-how-many-possible-team-combinations-are-there\n",
    "\n",
    "My initial reaction to this was to just compute the amount and be done with it. However, I believe there is more\n",
    "value that could be attained here. My new goal is to just take this as far as I possibly can. I think I'll add more and more data as I think is relevant and just keep doing more and more analysis. For now, permutations and computations of possible matches is good. I'm sure I'll think of more things to do soon though.\n",
    "\n",
    "\n",
    "Overall, my hope is that over time, this dataset will expand to include certain properties, where more analysis \n",
    "can occur. So please, feel free to join in if you are so inclined!"
   ]
  },
  {
   "cell_type": "markdown",
   "metadata": {},
   "source": [
    "## Index of Questions (for index to work, click 'Cell' then 'Run Cells' at the top)\n",
    "<ol>\n",
    "  <li>\n",
    "    <a href=\"#question1\"> <!-- Finished 5.24.18 -->\n",
    "      How many total permutations of League of Legends matches are there?\n",
    "    </a> \n",
    "  </li>\n",
    "  <li>\n",
    "    <a href=\"#question2\"> <!-- Finished 5.24.18 -->\n",
    "      How many total combinations of League of Legends matches are there?\n",
    "    </a>\n",
    "  </li>\n",
    "  <li>\n",
    "    <a href=\"#question3\"> <!-- -->\n",
    "      How many total permutations of matches if champions are grouped by primary lane?\n",
    "    </a>\n",
    "  </li>\n",
    "  <li>\n",
    "    <a href=\"#question4\"> <!-- -->\n",
    "      How many total combinations of matches if champions are grouped by primary lane?\n",
    "    </a>\n",
    "  </li>\n",
    "</ol>"
   ]
  },
  {
   "cell_type": "markdown",
   "metadata": {},
   "source": [
    "<a id=\"question1\"></a>\n",
    "\n",
    "### [x] Question 1: How many total permutations of League of Legends matches are there? \n",
    "* <i>\n",
    "    The difference between a permutation and a combination is that <u>in a permutation, the order matters</u>.\n",
    "    <br/> Whereas with a combination, the order does not matter.\n",
    "  </i>\n",
    "    > Example: {1, 2, 3}, {1, 3, 2}, {2, 1, 3}, {2, 3, 1}, {3, 1, 2}, {3, 2, 1}\n",
    "    are all <b>6</b> distinct permutations of the integers, 1, 2, and 3. \n",
    "    <br/> This follows because if we apply the permutation formula to the set, \n",
    "    <br/><br/>$$PermutationsOf(n, k) = \\frac{n!}{(n-k)!}$$<br/>\n",
    "    We let $n = 3$ because we have <u>3 total items</u>, and let $k = 3$ because we're choosing the possible \n",
    "    permutations of a <u>group of 3</u>.\n",
    "    <br/>That yields the following equation:\n",
    "    $$PermutationsOf(3, 3) = \\frac{3!}{(3-3)!}$$\n",
    "    <br/>Which reduces to:\n",
    "    $$PermutationsOf(3, 3) = \\frac{3 * 2 * 1}{0!}$$\n",
    "    <br/>then,\n",
    "    $$PermutationsOf(3, 3) = \\frac{6}{1}$$\n",
    "    <br/>Which is the correct answer of 6 unique permutations."
   ]
  },
  {
   "cell_type": "code",
   "execution_count": 31,
   "metadata": {},
   "outputs": [],
   "source": [
    "# Begin Problem 1 (completed May 24, 2018)\n",
    "import numpy as np\n",
    "import pandas as pd"
   ]
  },
  {
   "cell_type": "code",
   "execution_count": 32,
   "metadata": {},
   "outputs": [],
   "source": [
    "df_champs = pd.read_csv(\"champions.csv\")"
   ]
  },
  {
   "cell_type": "code",
   "execution_count": 33,
   "metadata": {},
   "outputs": [
    {
     "name": "stdout",
     "output_type": "stream",
     "text": [
      "2,081,693,722,421,538,086,400 permutations\n"
     ]
    }
   ],
   "source": [
    "# Permutations(n, k) = [n! / (n - k)!]\n",
    "\n",
    "# +1 to account for 0 index\n",
    "total_champs, permutations = (df_champs['champion'].size + 1), 1\n",
    "\n",
    "for i in range(10):\n",
    "    permutations *= total_champs\n",
    "    total_champs -= 1\n",
    "\n",
    "print(\"{:,} permutations\".format(permutations))"
   ]
  },
  {
   "cell_type": "markdown",
   "metadata": {},
   "source": [
    "<a id=\"question2\"></a>\n",
    "### [x] Question 2: How many total combinations of League of Legends matches are there?\n",
    "* <i>\n",
    "    The difference between a combination and a permutation is that \n",
    "    <u>in a combination, the order doesn't matter</u>.\n",
    "    <br/> Whereas with a permutation, the order matter.\n",
    "  </i>\n",
    "    > Example: Given {1, 2, 3}, make as many combinations as possible in sets of two.\n",
    "    Answer: Set 1, {1, 2}\n",
    "    <b>1</b> distinct permutations of the integers, 1, 2, and 3. \n",
    "    <br/> This follows because if we apply the permutation formula to the set, \n",
    "    <br/><br/>$$PermutationsOf(n, k) = \\frac{n!}{(n-k)!}$$<br/>\n",
    "    We let $n = 3$ because we have <u>3 total items</u>, and let $k = 3$ because we're choosing the possible \n",
    "    permutations of a <u>group of 3</u>.\n",
    "    <br/>That yields the following equation:\n",
    "    $$PermutationsOf(3, 3) = \\frac{3!}{(3-3)!}$$\n",
    "    <br/>Which reduces to:\n",
    "    $$PermutationsOf(3, 3) = \\frac{3 * 2 * 1}{0!}$$\n",
    "    <br/>then,\n",
    "    $$PermutationsOf(3, 3) = \\frac{6}{1}$$\n",
    "    <br/>Which is the correct answer of 6 unique permutations."
   ]
  },
  {
   "cell_type": "code",
   "execution_count": 34,
   "metadata": {},
   "outputs": [],
   "source": [
    "# Combinations(n, k) = {n! / [(n - k)!]k!}\n",
    "\n",
    "# take the calculated permutations from last block and divide by k! for total combinations\n",
    "total_champs, numerator, denominator = (df_champs['champion'].size + 1), permutations, 1\n",
    "\n",
    "for i in range(1, 11):\n",
    "    # don't need to multiply in descending order 10 * 9 * 8 * ... because multiplication is commutative \n",
    "    denominator *= i \n",
    "\n",
    "combinations = (numerator / denominator)"
   ]
  },
  {
   "cell_type": "code",
   "execution_count": 35,
   "metadata": {
    "scrolled": true
   },
   "outputs": [
    {
     "name": "stdout",
     "output_type": "stream",
     "text": [
      "573,658,984,353,378 combinations\n"
     ]
    }
   ],
   "source": [
    "print(\"{:,} combinations\".format(int(combinations)))"
   ]
  },
  {
   "cell_type": "markdown",
   "metadata": {},
   "source": [
    "### \"Two-sextillion, eighty-one quintillion, six hundred ninety-three quadrillion, seven hundred twenty-two trillion, four hundred twenty-one billion, five hundred thirty-eight million, eighty-six thousand, four hundred permutations.\n",
    "\n",
    "That's this number: 2,081,693,722,421,538,086,400 (permutations)"
   ]
  },
  {
   "cell_type": "markdown",
   "metadata": {},
   "source": []
  },
  {
   "cell_type": "code",
   "execution_count": null,
   "metadata": {},
   "outputs": [],
   "source": []
  }
 ],
 "metadata": {
  "kernelspec": {
   "display_name": "Python 3",
   "language": "python",
   "name": "python3"
  },
  "language_info": {
   "codemirror_mode": {
    "name": "ipython",
    "version": 3
   },
   "file_extension": ".py",
   "mimetype": "text/x-python",
   "name": "python",
   "nbconvert_exporter": "python",
   "pygments_lexer": "ipython3",
   "version": "3.6.4"
  }
 },
 "nbformat": 4,
 "nbformat_minor": 2
}
