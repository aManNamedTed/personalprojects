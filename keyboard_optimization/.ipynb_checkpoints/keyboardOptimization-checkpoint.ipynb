{
 "cells": [
  {
   "cell_type": "code",
   "execution_count": null,
   "metadata": {},
   "outputs": [],
   "source": [
    "TODO:\n",
    "    .csv for words\n",
    "    freq. analysis of letters only\n",
    "        new->freq. analysis of shingled letters\n",
    "    think about how to graph this.\n",
    "        maybe static keyboard layout?, then assign keys that minimize distance traveled\n",
    "        shorten spacebar?\n",
    "    when is it optimal to do keystroke+modifier\n",
    "    avg key position given multiple samples of stuff\n",
    "        minimize distance traveled given a set of strings (dictionary that shit)\n",
    "    essentially format a keyboard to your usage\n",
    "    \n",
    "        \n",
    "    "
   ]
  }
 ],
 "metadata": {
  "kernelspec": {
   "display_name": "Python 3",
   "language": "python",
   "name": "python3"
  },
  "language_info": {
   "codemirror_mode": {
    "name": "ipython",
    "version": 3
   },
   "file_extension": ".py",
   "mimetype": "text/x-python",
   "name": "python",
   "nbconvert_exporter": "python",
   "pygments_lexer": "ipython3",
   "version": "3.6.4"
  }
 },
 "nbformat": 4,
 "nbformat_minor": 2
}
