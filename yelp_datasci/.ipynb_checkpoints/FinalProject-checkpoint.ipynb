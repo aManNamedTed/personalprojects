{
 "cells": [
  {
   "cell_type": "markdown",
   "metadata": {},
   "source": [
    "# Names and explicit code withheld for privacy"
   ]
  },
  {
   "cell_type": "markdown",
   "metadata": {},
   "source": [
    "# Does the affluence of a neighborhood have a causal impact on Yelp ratings?"
   ]
  },
  {
   "cell_type": "markdown",
   "metadata": {},
   "source": [
    "### David Amante (+ 5 wonderful teammates)"
   ]
  },
  {
   "cell_type": "markdown",
   "metadata": {},
   "source": [
    "## Introduction"
   ]
  },
  {
   "cell_type": "markdown",
   "metadata": {},
   "source": [
    "Imagine this. For generations, your family has run a small, homey cafe in a middle-lower class neighborhood. Over the past couple of years, however, the city has become rapidly gentrified. It seems like a welcome change at first. However, one day, a small posse of businessmen in suits hurry in and order a couple boxes of coffee, muffins, and croissants. \n",
    "\n",
    "“We’re new in town,” they say, “and we have a business meeting in half an hour.”\n",
    "\n",
    "You smile and nod. \n",
    "\n",
    "However, later that week, one of the regulars shows you a Yelp review with one star. \n",
    "\n",
    "“Slow service,” you read aloud, “and the coffee wasn’t hot at all. The muffins tasted as if there were a cup of butter in each one, and maybe another cup of sugar on top of that. Unfortunately, there was no nutritional information printed anywhere. There were no gluten-free options either. Not to mention, the place was run-down and dirty. It was embarrassing to bring breakfast to our meeting from this cafe. Wouldn’t come back.”\n",
    "\n",
    "You look around at the cafe, indignant and embarrassed. True, the seats are worn from years of usage, but not dirty. Glumly, you realize that your cafe might look a little out of place on this cleaned-up street. You expect that there would be more suited business-people in the future—doctors, lawyers, and other important professionals. But you just don’t have enough savings to upgrade the place. \n",
    "\n",
    "As the neighborhood becomes richer, you wonder what the future will be for your business.\n",
    "***"
   ]
  },
  {
   "cell_type": "markdown",
   "metadata": {},
   "source": [
    "With the ever-increasing popularity of user-review apps such as Yelp, reviews on the restaurant industry have had growing impact on business revenue. According to  Harvard Business Law School’s Michael Luca, Yelp reviews actually have a causal impact on restaurant demand. For instance, Luca found that when a restaurant gains one star on Yelp, they experience a 5-9% increase in revenue. <br>\n",
    "https://www.hbs.edu/faculty/Publication%20Files/12-016_a7e4a5a2-03f9-490d-b093-8f951238dba2.pdf\n",
    "\n",
    "Evidently, Yelp reviews make a big difference in the survival of businesses. However, the downside to this is the matter of customer subjectivity. By definition, any sort of an experience is subjective. Susan Autry (Autry, 2006) says that consumers in different stages of life have different restaurant preferences. For example, students, middle aged people, and elderly patrons all have different tastes in style. It appears that many different factors and tastes contribute to the 5 star Yelp rating. How can a 5-star rating capture all the nuances and biases in consumer opinion? <br>\n",
    "http://www.tandfonline.com/doi/pdf/10.1080/02642069200000042?needAccess=true\n",
    "\n",
    "As such, we wanted to see whether different factors might contribute to these reviews, and implicitly then, the survival of food businesses. If a good restaurant is unlucky enough to make bad impressions on hard-to-please customers and receive low-star ratings on Yelp, this could affect their business negatively. Is there a trend where certain restaurants may be subject to a higher likelihood of harsher ratings? Would affluence of different neighborhoods have an affect on a restaurant’s Yelp ratings? If so, is the effect significant? This conundrum leads us to our questions:\n",
    "> Are restaurant ratings affected by the affluence of its surrounding neighborhood?\n",
    "\n",
    "> How do chain restaurants fare in neighborhoods with different affluence?\n",
    "\n",
    ">Is there a trend for generally lower ratings in high-income areas compared to those in low-income areas? \n",
    "\t\n",
    "Our hypothesis is that the affluence of an area will have a causal effect the Yelp reviews for restaurants.\n",
    "\n",
    "\n",
    "The null hypothesis is that affluence of an area will not have a causal effect on average star ratings of restaurants "
   ]
  },
  {
   "cell_type": "markdown",
   "metadata": {},
   "source": [
    "To begin, we loaded the necessary packages to perform our analysis, many of which were quite standard."
   ]
  },
  {
   "cell_type": "markdown",
   "metadata": {},
   "source": [
    "## Part 1 - Data Loading and Preprocessing"
   ]
  },
  {
   "cell_type": "markdown",
   "metadata": {},
   "source": [
    "### Wikipedia Data"
   ]
  },
  {
   "cell_type": "markdown",
   "metadata": {},
   "source": [
    "To approach our problem, we decided to analyze restaurants and affluence of California neightborhoods. We first scraped a dataset from Wikipedia called “California Locations by Income”, found at https://en.wikipedia.org/wiki/List_of_California_locations_by_income.\n",
    "This gives the population density, per capita income, median household income, and median family income for difference cities in California. For the purposes of this project, we used the columns with the cities and per capita income per city."
   ]
  },
  {
   "cell_type": "markdown",
   "metadata": {},
   "source": [
    "We noticed that there was some missing data in the wikiepedia dataset - the income data was not available for some cities with lower population (For example, cities with less than 100 inhabitants). We dropped the rows with NaN’s because they did not make up a large portion of the data. We also cleaned up any unnecessary/messy symbols (eg: “,” “$”). Then, we extracted the data and put it in a dataframe. Finally, we created a new dataframe with the columns we needed: “city” and “IPC” (Income Per Capita). "
   ]
  },
  {
   "cell_type": "markdown",
   "metadata": {},
   "source": [
    "### Yelp Data Processing"
   ]
  },
  {
   "cell_type": "markdown",
   "metadata": {},
   "source": [
    "In combination with the wikipedia data, we used a data set provided by Yelp, found at: https://www.yelp.com/dataset/download. This consisted of about 56,000 reviews from their website. The reviews covered a wide range of restaurants and businesses from across the United States."
   ]
  },
  {
   "cell_type": "markdown",
   "metadata": {},
   "source": [
    "In the Yelp data, we extracted the business ID’s, city, stars, and attributes. First, we read the Yelp restaurant data and created a dataframe with the columns: attributes, business_id, city, and stars. In the dataset, the price category of each restaurant was inside the attributes column, so we wrote some code to extract price category information. Then, we created a new dataframe that organized the data according to price ranges represented by the \\$ on Yelp. One \\$ means that the restaurant bill is under \\$10, Two \\$ means that the bill comes out to between \\$11-\\$30, Three \\$ means that the bill is between \\$31-\\$60, and four \\$ means that the bill is over \\$61."
   ]
  },
  {
   "cell_type": "markdown",
   "metadata": {},
   "source": [
    "### Creating Master Dataframe"
   ]
  },
  {
   "cell_type": "markdown",
   "metadata": {},
   "source": [
    "Next, we created the master dataset by merging the Wikipedia cities dataframe with our Yelp dataframe on the ‘city’ column. Finally, we created a dataframe that included the following columns: \n",
    " - City \n",
    " - Price (Yelp price category)\n",
    " - Stars (average star rating)\n",
    " - Income per capita\n",
    " - Business ID (ID for each restaurant in each city)\n"
   ]
  },
  {
   "cell_type": "markdown",
   "metadata": {
    "collapsed": true
   },
   "source": [
    "### Privacy and Ethics Considerations"
   ]
  },
  {
   "cell_type": "markdown",
   "metadata": {
    "collapsed": true
   },
   "source": [
    "The permission granted to use the data is clearly defined in Yelp’s Terms of Service. The privacy concerns are also further defined in their ToS, essentially stating that we are not allowed to use the data in any way that would make us money or disparage the Yelp name. We are also not allowed to claim any ownership over the data for any reason. As far as we are concerned, there are no privacy concerns regarding our datasets. There are two reasons for this: 1.) Yelp owns and publishes business data for the sake of the business. If the business information were meant to be private, there would be mounting concern for why this information would be public in the first place. 2.) We as a team of responsible data scientists are also taking the liberty of further refining the Yelp dataset to exclude superfluous information that do not make a substantial difference on the outcomes of our analyses (i.e. the correlation between “Cool” comment votes and the surrounding cities’ GDP). We make a mention of this further data cleaning to express that we are also excluding certain data that may or may not be relevant to the privacy and ethics of our analyses. "
   ]
  },
  {
   "cell_type": "markdown",
   "metadata": {},
   "source": [
    "## Part 2 - Data Visualization"
   ]
  },
  {
   "cell_type": "markdown",
   "metadata": {},
   "source": [
    "### Histograms"
   ]
  },
  {
   "cell_type": "markdown",
   "metadata": {},
   "source": [
    "2a) Income Per Capita Histograms: The following histograms of the data showed us that Income Per Capita was not distributed normally, as we expected. It was interesting to see that California's Income Per Capita was far from being a normal curve. "
   ]
  },
  {
   "cell_type": "markdown",
   "metadata": {},
   "source": [
    "For visualization and analyzation purposes, we log-transformed the Income Per Capita data to see if this would normalize the data more. Even after the transform, the data was not very normal."
   ]
  },
  {
   "cell_type": "markdown",
   "metadata": {},
   "source": [
    "2b) Splitting the data by price categories: To analyze our data, we wanted to split the data into different price ranges so that we could see how a city's Income Per Capita affected star ratings depending on what Yelp price category the restaurant was in."
   ]
  },
  {
   "cell_type": "markdown",
   "metadata": {},
   "source": [
    "2c) Histogram of restaurant distribution by price category and star ratings: In this histrogram, we took a look at the distribution of restaruants in Yelp price categories (blue) and star ratings (orange). Here, we can see that:\n",
    "- there are many more less expensive restaurants (1-2 dollar signs) than expensive restaurants (3-4 dollar signs)\n",
    "- the star ratings tend toward the higher end; there is a negative skew"
   ]
  },
  {
   "cell_type": "markdown",
   "metadata": {
    "collapsed": true
   },
   "source": [
    "2d) Histograms of average star ratings, by price categories: The following histograms allow us to see distributions across different price categories (Yelp $ categories). Looking at the histograms of star ratings of restaurants in different price categories helps us see whether there are any skews in the data. "
   ]
  },
  {
   "cell_type": "markdown",
   "metadata": {},
   "source": [
    "Intuitively, one might assume that the higher the price categories, the the higher the star ratings. Here, we see that the highest price category has the most negative skew. Interestingly however, the other price categories also have negative skews. This means that people are equally critical across price categories. This makes sense, because people adjust their standards based on the price category of the restaurant they choose to eat at. In addition, the high averages also mean that the Yelp reviews seem to tend to have generally high ratings across the board. Interestingly, this phenomenon has been noticed and discussed by Yelp-users (for example, https://venturebeat.com/2009/10/12/how-yelp-deals-with-everybody-getting-four-stars-on-average/). This points to the insensitivity of Yelp star ratings to capture subjecitivity in costumer restaurant experiences."
   ]
  },
  {
   "cell_type": "markdown",
   "metadata": {},
   "source": [
    "2e) Histograms of price categories, by star ratings: Here, we see that the lower the star ratings, the lower the price categories of restaurants. \n"
   ]
  },
  {
   "cell_type": "markdown",
   "metadata": {},
   "source": [
    "As can be seen here, the distribution moves toward the right (decreasing positive skew) if the restaurants are rated higher. This means that the lower star-rated restaurants tend to also be less expensive. This aligns with the intuition that lower quality restaurants are less expensive. "
   ]
  },
  {
   "cell_type": "markdown",
   "metadata": {},
   "source": [
    "### Scatterplots"
   ]
  },
  {
   "cell_type": "markdown",
   "metadata": {},
   "source": [
    "2f) Scatterplot: \n",
    "First, we looked at the scatterplots that were based on the master dataframe"
   ]
  },
  {
   "cell_type": "markdown",
   "metadata": {},
   "source": [
    "Here, we see the the data is not continuous, because price categories and star ratings are distinct values, making it difficult to interpret the scatterplots. "
   ]
  },
  {
   "cell_type": "markdown",
   "metadata": {},
   "source": [
    "2g) Scatterplot of means: By taking the means of star ratings and prices, we could visualize the data in a continous fashion. We created a new dataframe with the following columns: City, Income Per Capita, Average price category, Average star ratings, and log Income Per Capita. "
   ]
  },
  {
   "cell_type": "markdown",
   "metadata": {},
   "source": [
    "These scatterplots show that there seems to be low correlation between income and average star ratings. This means that income of a neighborhood may not influence star ratings, unlike what we predicted in our hypothesis. To see whether this was the case, we performed regression analysis. "
   ]
  },
  {
   "cell_type": "markdown",
   "metadata": {},
   "source": [
    "## Part 3 - Data Analysis and Further Visualization "
   ]
  },
  {
   "cell_type": "markdown",
   "metadata": {},
   "source": [
    "### Regression Analysis of Mean Star Ratings"
   ]
  },
  {
   "cell_type": "markdown",
   "metadata": {},
   "source": [
    "#### 3a) Relationship between IPC and Mean Star Ratings"
   ]
  },
  {
   "cell_type": "markdown",
   "metadata": {},
   "source": [
    "The relationship between Income Per Capita and Mean Stars shows an r of 0.127, indicating a low positive correlation. According to the data, this shows that there may be an insignificant relationship between neighborhood affluence and restaurant star ratings."
   ]
  },
  {
   "cell_type": "markdown",
   "metadata": {},
   "source": [
    "Along with the weak correlation, we realized that there could be potential confounds due to possible relationships between (1) income and Yelp price categories, as well as (2) Yelp price categories and star ratings. If these relationships were significant, then it would be impossible to claim a causal relationship between income and average star ratings. As such, we plotted linear regression models and looked at the correlation coefficients between different variables. \n"
   ]
  },
  {
   "cell_type": "markdown",
   "metadata": {},
   "source": [
    "#### 3b) Relationship between Income Per Capota and Yelp Price Category"
   ]
  },
  {
   "cell_type": "markdown",
   "metadata": {},
   "source": [
    "We found that there was little correlation between IPC and Yelp price category than between IPC and star ratings. Our intuition was that people who earn more would probably eat at more expensive restaurants than people who earn less. Because this correlation shows an r value of 0.0623, this is not the case."
   ]
  },
  {
   "cell_type": "markdown",
   "metadata": {},
   "source": [
    "#### 3c) Relationship between Yelp Price Category and Average Star Ratings"
   ]
  },
  {
   "cell_type": "markdown",
   "metadata": {},
   "source": [
    "Our largest r yet, 0.210 shows a small effect between Yelp price category and average star ratings. This shows a small bias due to confirmation bias. Because more money is spent at expensive restaurants, it is likely that the people who spent the money would want to feel justified in their spending decision. However small this correlation is, it still shows the most significant relationship yet."
   ]
  },
  {
   "cell_type": "markdown",
   "metadata": {},
   "source": [
    "### Regression Analysis of Mode Star Ratings"
   ]
  },
  {
   "cell_type": "markdown",
   "metadata": {},
   "source": [
    "To see whether our low correlations were due to low variance and outlier effects of using using the means, we tried to do regression analysis for mode (instead of mean) star ratings. "
   ]
  },
  {
   "cell_type": "markdown",
   "metadata": {},
   "source": [
    "#### DataFrame Pre-processing for Mode Star Ratings Calculation"
   ]
  },
  {
   "cell_type": "markdown",
   "metadata": {},
   "source": [
    "We created a new dataset with the mode star ratings."
   ]
  },
  {
   "cell_type": "markdown",
   "metadata": {},
   "source": [
    "#### 3d) Relationship between IPC and Mode Star Ratings"
   ]
  },
  {
   "cell_type": "markdown",
   "metadata": {},
   "source": [
    "Similar to our Income Per Capita and Mean Stars, our r value is 0.097. Again, too insignificant a correlation to derive any meaningful connection."
   ]
  },
  {
   "cell_type": "markdown",
   "metadata": {},
   "source": [
    "#### 3e) Relationship between IPC and Yelp Price Category"
   ]
  },
  {
   "cell_type": "markdown",
   "metadata": {},
   "source": [
    "Again, there is low correlation between income and Yelp price category.  "
   ]
  },
  {
   "cell_type": "markdown",
   "metadata": {},
   "source": [
    "#### 3f) Relationship between Yelp Price Category and Mode Star Ratings"
   ]
  },
  {
   "cell_type": "markdown",
   "metadata": {},
   "source": [
    "With an r value of  0.158, the correlation is again, small. "
   ]
  },
  {
   "cell_type": "markdown",
   "metadata": {},
   "source": [
    "#### 3g) OLS Modeling"
   ]
  },
  {
   "cell_type": "markdown",
   "metadata": {},
   "source": [
    "Given the above OLS results, our analysis is accurate. Trying to predict Income Per Capita from price and star ratings from the Yelp data gives us a t-score that retains the null hypothesis. However, this only applies to our mean stars analysis. Instead, let's look at the mode stars t-score."
   ]
  },
  {
   "cell_type": "markdown",
   "metadata": {},
   "source": [
    "Even from our mode stars analysis, we find that predicting IPC from price and stars shows no statistical significance. With respect to both mode and mean calculations, we think that the reason there is no statistically significant connection is due to either the lack of data (bigger n could help reduce variability and give us a better representation of the population) or the discrete nature of our two independent variables. \n",
    "\n",
    "Let's recap with our original data to gain an intuition on the results."
   ]
  },
  {
   "cell_type": "markdown",
   "metadata": {},
   "source": [
    "As shown previously in our linear regression models, the correlation shown is not entirely conclusive, right? Well with the printout of the OLS regression model, we can conclude that there really is no relationship between affluence of a city and the rating of the income per capita. Shown above, we can also conclude that there may be no direct relationship between only star rating and price rating. "
   ]
  },
  {
   "cell_type": "markdown",
   "metadata": {
    "collapsed": true
   },
   "source": [
    "## Part 4 - Discussion and Conlusion"
   ]
  },
  {
   "cell_type": "markdown",
   "metadata": {},
   "source": [
    "### Overview"
   ]
  },
  {
   "cell_type": "markdown",
   "metadata": {},
   "source": [
    "We started out hoping to see whether the affluence of a neighborhood affected a restaurant's Yelp star ratings. Because Yelp reviews actually have effects on the success of businesses, it is important to investigate this problem so that restaurants can deal with factors that might influence the health of their business."
   ]
  },
  {
   "cell_type": "markdown",
   "metadata": {},
   "source": [
    "Based on our findings, we reject our hypothesis and accept our null hypothesis that there is no causal relationship between  neighborhood affluence.\n",
    "\n",
    "Our analyses showed low correlation between the variables of income per capita, Yelp price categories, and star ratings across the board. As such, we cannot claim that neighborhood affluence has a causal relationship with star ratings. However, inasmuch as our analysis did not prove/disprove whether affluence influences star ratings, low correlations between income/price category and price category/star ratings challenge intuition. \n",
    "\n",
    "While people might expect to see that income and price have strong positive correlation, which would indicate that expensive restaurants are located in high income neighborhoods, the linear regressions showed that there was only very low positive correlation. Even more interestingly, the variables do not include subjective ratings, so the low correlation is not due to subjectivity inconsistencies from Yelp star ratings. This could be an area of further investigation. \n",
    "\n",
    "People might also expect that price categtory and star ratings have strong positive correlation, which would mean that more expensive restaurants have higher ratings. However, the regression analysis showed that the correlation is weak. This further shows the insensitivity of Yelp ratings. These challenges to intuition might be interesting to further investigate. Why aren't there as strong correlations where we might assume there to be? Is there an interesting phemenon to be found?  \n",
    "\n",
    "In addition to the regression analyses, the histograms above also challenge intuition, as one might assume that higher-priced restaurants would have higher star ratings. However, we saw that the Yelp reviews seem to tend to have high averages across the board, which points to the invalidity of Yelp ratings in actually capturing the nuance of customer experience and opinion.  "
   ]
  },
  {
   "cell_type": "markdown",
   "metadata": {},
   "source": [
    "### Potential Error"
   ]
  },
  {
   "cell_type": "markdown",
   "metadata": {},
   "source": [
    "As can be seen the histogram in (2c), there wasn’t an even distribution of restaurant across price categories. There were more restaurants in the lower price ranges (1-2 dollar signs), and far less in the upper price ranges (3-4 dollar signs). This may have affected the data as our samples sizes were different. \n",
    "\n",
    "The Yelp dataset that we used also only included 11 metropolitan regions across the US and Canada. As such, this limited our data and we ended up with 41 rows in our means master dataframe. Using more restaurant data would help us do a more complete and accurate analysis. \n",
    "\n",
    "Because of the insensitivity of the Yelp star ratings, it would be helpful to try doing natural language processing on Yelp reviews and see whether neighborhood affluence has a causal relationship with Yelp review sentiment.  With our current hypothesis, we would expect to see more negative sentient in reviews for restaurants in more affluent neighborhoods. "
   ]
  },
  {
   "cell_type": "markdown",
   "metadata": {},
   "source": [
    "### Possible Improvements: What Next?"
   ]
  },
  {
   "cell_type": "markdown",
   "metadata": {},
   "source": [
    "Finding what exactly influences star ratings was a more complex question than we thought at the outset of the project. As such, we ran into many possible confounds. For example, our analyses show that there is some, albeit not very strong, relationship between neighborhood affluence and star ratings. However, does population density also have effect? What about retirement age or proximity to certain facilities like schools, hospitals, airports, etc.? What if the cities we looked at were tourist cities, in which ratings will differ due to the variety of patrons at restaurants. Another confound was that some people may just go to other cities to eat on a regular basis. Therefore, they may review restaurants that are not in the city that they live in. Looking at data in gentrified cities across time could also be helpful. Whether or not ratings change across time, before, during, and after gentrification, could better tackle the question of whether neighborhood affluence affects restaurant ratings."
   ]
  }
 ],
 "metadata": {
  "kernelspec": {
   "display_name": "Python 3",
   "language": "python",
   "name": "python3"
  },
  "language_info": {
   "codemirror_mode": {
    "name": "ipython",
    "version": 3
   },
   "file_extension": ".py",
   "mimetype": "text/x-python",
   "name": "python",
   "nbconvert_exporter": "python",
   "pygments_lexer": "ipython3",
   "version": "3.6.4"
  }
 },
 "nbformat": 4,
 "nbformat_minor": 2
}
